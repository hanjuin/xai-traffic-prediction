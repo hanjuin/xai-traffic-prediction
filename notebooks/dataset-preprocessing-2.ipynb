{
 "cells": [
  {
   "cell_type": "code",
   "execution_count": null,
   "id": "a1ca8790",
   "metadata": {},
   "outputs": [],
   "source": [
    "import pandas as pd\n",
    "import numpy as np\n",
    "import os\n",
    "import matplotlib.pyplot as plt"
   ]
  },
  {
   "cell_type": "code",
   "execution_count": null,
   "id": "a07c4319",
   "metadata": {},
   "outputs": [
    {
     "name": "stdout",
     "output_type": "stream",
     "text": [
      "<class 'pandas.core.frame.DataFrame'>\n",
      "DatetimeIndex: 6386565 entries, 2023-01-01 00:00:00 to 2025-07-31 23:00:00\n",
      "Data columns (total 4 columns):\n",
      " #   Column       Dtype \n",
      "---  ------       ----- \n",
      " 0   Detector_ID  int64 \n",
      " 1   Lane         int64 \n",
      " 2   Volume       int64 \n",
      " 3   Direction    object\n",
      "dtypes: int64(3), object(1)\n",
      "memory usage: 243.6+ MB\n"
     ]
    }
   ],
   "source": [
    "# =========================\n",
    "# df declaration\n",
    "# =========================\n",
    "\n",
    "file_path = r\"../data/at-dataset/Scats-Data.csv\"\n",
    "\n",
    "df = pd.read_csv(file_path, sep=\"\\t\")\n",
    "\n",
    "df[[\"Detector_ID\", \"Lane\"]] = df[\"Detector\"].str.split(\"-\", expand=True)\n",
    "df = df.drop(columns=[\"Detector\"])\n",
    "df[\"Detector_ID\"] = pd.to_numeric(df[\"Detector_ID\"], errors=\"coerce\")\n",
    "df[\"Lane\"] = pd.to_numeric(df[\"Lane\"], errors=\"coerce\")\n",
    "df[\"DateTime\"] = pd.to_datetime(df[\"Date\"] + \" \" + df[\"Time\"], format=\"%Y-%m-%d %H:%M\")\n",
    "\n",
    "df = df.drop_duplicates(subset=[\"Detector_ID\", \"Lane\", \"DateTime\"])\n",
    "df.set_index(\"DateTime\", inplace=True)\n",
    "del df[\"Date\"]\n",
    "del df[\"Time\"] \n",
    "del df['Invalid']\n",
    "df = df[['Detector_ID', 'Lane', 'Volume']]\n",
    "df = df.sort_values(by=['DateTime', 'Detector_ID', 'Lane'])\n",
    "\n",
    "site_description = pd.read_csv(r\"../data/at-dataset/site_description.csv\")\n",
    "\n",
    "df = df.join(\n",
    "    site_description.set_index(['Site', 'Lane'])[['Direction']],\n",
    "    on=['Detector_ID', 'Lane'],\n",
    "    how='left'\n",
    ")\n",
    "\n",
    "# temporarily remove rows with missing\n",
    "df = df.dropna(subset=['Direction'])\n",
    "\n",
    "df = df[df['Direction'] != 'N']\n",
    "\n",
    "df.info()"
   ]
  },
  {
   "cell_type": "code",
   "execution_count": null,
   "id": "39639d22",
   "metadata": {},
   "outputs": [],
   "source": [
    "# =========================\n",
    "# code for check missing timestamp\n",
    "# =========================\n",
    "\n",
    "site = df['Detector_ID'].unique()\n",
    "for s in site:\n",
    "    site_df = df[df['Detector_ID'] == s]\n",
    "    lane = site_df['Lane'].unique()\n",
    "    lane = np.sort(lane)\n",
    "    # plt.figure(figsize=(15, 5 * len(lane)))\n",
    "    for i, l in enumerate(lane):\n",
    "        lane_df = site_df[site_df['Lane'] == l].sort_index()\n",
    "        full_range = pd.date_range(start=df.index.min(), end=df.index.max(), freq='1h')\n",
    "        missing_times = full_range.difference(lane_df.index)\n",
    "        print(f\"Site: {s}, Lane: {l}, Missing timestamps: {len(missing_times)}\")"
   ]
  },
  {
   "cell_type": "code",
   "execution_count": null,
   "id": "37eb93ba",
   "metadata": {},
   "outputs": [],
   "source": [
    "# =========================\n",
    "# plotting the df and save into dir\n",
    "# =========================\n",
    "site = df['Detector_ID'].unique()\n",
    "# site = df1['Detector_ID'].unique()\n",
    "\n",
    "for s in site:\n",
    "    site_df = df[df['Detector_ID'] == s]\n",
    "    lane = site_df['Lane'].unique()\n",
    "    lane = np.sort(lane)\n",
    "    # plt.figure(figsize=(15, 5 * len(lane)))\n",
    "    for i, l in enumerate(lane):\n",
    "        plt.figure(figsize=(15, 5))\n",
    "        lane_df = site_df[site_df['Lane'] == l].sort_index()\n",
    "        plt.plot(lane_df.index, lane_df['Volume'],'-', label=f'Site {s} Lane {l}')\n",
    "        plt.title(f'Site {s} Lane {l} Volume over Time')\n",
    "        plt.xlabel('Time')\n",
    "        plt.ylabel('Volume')\n",
    "        plt.legend()\n",
    "        plt.grid()\n",
    "        \n",
    "        # =========================\n",
    "        # choose output dir\n",
    "        # =========================\n",
    "        output_dir = f'../results/site_plot/site_{s}/'\n",
    "        # output_dir = f'../results/site_plot_1/site_{s}/'\n",
    "\n",
    "        os.makedirs(output_dir, exist_ok=True)\n",
    "        plt.savefig(f'{output_dir}site_{s}_lane_{l}_volume.png')\n",
    "        plt.close()"
   ]
  },
  {
   "cell_type": "code",
   "execution_count": null,
   "id": "70a63bab",
   "metadata": {},
   "outputs": [],
   "source": [
    "# =========================\n",
    "# removing timestamp that have zero volume for the entire day\n",
    "# =========================\n",
    "\n",
    "site = df['Detector_ID'].unique()\n",
    "df1 = pd.DataFrame()\n",
    "for s in site:\n",
    "    site_df = df[df['Detector_ID'] == s]\n",
    "    lane = site_df['Lane'].unique()\n",
    "    lane = np.sort(lane)\n",
    "    for i, l in enumerate(lane):\n",
    "        temp = df[(df['Detector_ID'] == s) & (df['Lane'] == l)]\n",
    "        cnt = temp['Volume'].resample('D').size()\n",
    "        all0 = temp['Volume'].eq(0).resample('D').apply(lambda x: x.all())\n",
    "        baddays = (all0 & cnt.eq(24))\n",
    "        temp = temp[~temp.index.normalize().isin(baddays[baddays].index)]\n",
    "        df1 = pd.concat([df1, temp])"
   ]
  },
  {
   "cell_type": "code",
   "execution_count": 145,
   "id": "64b6ec38",
   "metadata": {},
   "outputs": [],
   "source": [
    "# =========================\n",
    "# save the updated df into csv\n",
    "# =========================\n",
    "\n",
    "df1.to_csv(r\"../data/at-dataset/SCATS-data/Scats-Data-Processed.csv\", index=True)"
   ]
  }
 ],
 "metadata": {
  "kernelspec": {
   "display_name": "Python 3",
   "language": "python",
   "name": "python3"
  },
  "language_info": {
   "codemirror_mode": {
    "name": "ipython",
    "version": 3
   },
   "file_extension": ".py",
   "mimetype": "text/x-python",
   "name": "python",
   "nbconvert_exporter": "python",
   "pygments_lexer": "ipython3",
   "version": "3.12.4"
  }
 },
 "nbformat": 4,
 "nbformat_minor": 5
}
