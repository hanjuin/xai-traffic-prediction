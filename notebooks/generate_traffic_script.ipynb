{
 "cells": [
  {
   "cell_type": "code",
   "execution_count": 5,
   "id": "2901b120",
   "metadata": {},
   "outputs": [
    {
     "name": "stdout",
     "output_type": "stream",
     "text": [
      "True\n"
     ]
    }
   ],
   "source": [
    "from pathlib import Path\n",
    "outdir = Path.cwd().parent / \"traffic simulation\" / \"2906\"\n",
    "print(outdir.exists())\n"
   ]
  },
  {
   "cell_type": "code",
   "execution_count": 6,
   "id": "2be5902c",
   "metadata": {},
   "outputs": [
    {
     "name": "stdout",
     "output_type": "stream",
     "text": [
      "Entry edges: ['-1088700963', '-7637536#1', '623950256', '624515487', '624523286']\n",
      "Exit edges: ['-624523286', '1088700963', '623950255', '624515488', '7637536#0']\n"
     ]
    }
   ],
   "source": [
    "# =========================\n",
    "# Find entry and exit edges of a SUMO network\n",
    "# =========================\n",
    "\n",
    "import sumolib\n",
    "\n",
    "net = sumolib.net.readNet(outdir / \"osm.net.xml.gz\")\n",
    "\n",
    "entry_edges = []\n",
    "exit_edges = []\n",
    "\n",
    "for edge in net.getEdges():\n",
    "    if not edge.getIncoming():   # no incoming = boundary entry\n",
    "        entry_edges.append(edge.getID())\n",
    "    if not edge.getOutgoing():   # no outgoing = boundary exit\n",
    "        exit_edges.append(edge.getID())\n",
    "\n",
    "print(\"Entry edges:\", entry_edges)\n",
    "print(\"Exit edges:\", exit_edges)\n"
   ]
  },
  {
   "cell_type": "code",
   "execution_count": null,
   "id": "e0a5bd89",
   "metadata": {},
   "outputs": [
    {
     "name": "stdout",
     "output_type": "stream",
     "text": [
      "Trips written to trips.rou.xml\n"
     ]
    }
   ],
   "source": [
    "import sys\n",
    "import os\n",
    "import subprocess\n",
    "# Add SUMO tools to Python path\n",
    "sys.path.append(os.path.join(os.environ[\"SUMO_HOME\"], \"tools\"))\n",
    "\n",
    "import randomTrips\n",
    "\n",
    "netfile = outdir / \"osm.net.xml.gz\"\n",
    "tripfile = outdir / \"trips.rou.xml\"\n",
    "SUMO_HOME = os.environ[\"SUMO_HOME\"]\n",
    "\n",
    "cmd = [\n",
    "    \"python\", os.path.join(SUMO_HOME, \"tools\", \"randomTrips.py\"),\n",
    "    \"-n\", netfile,\n",
    "    \"-o\", tripfile,\n",
    "    \"-b\", \"0\",\n",
    "    \"-e\", \"3600\",\n",
    "    \"--period\", \"0.5\",\n",
    "    \"--validate\"\n",
    "]\n",
    "\n",
    "subprocess.run(cmd, check=True)\n",
    "print(f\"Trips written to {tripfile}\")\n"
   ]
  },
  {
   "cell_type": "code",
   "execution_count": null,
   "id": "8b325ecf",
   "metadata": {},
   "outputs": [
    {
     "name": "stdout",
     "output_type": "stream",
     "text": [
      "Filtered trips written to filtered_trips.rou.xml\n"
     ]
    }
   ],
   "source": [
    "# =========================\n",
    "# Filter trips based on forbidden (from,to) edge pairs\n",
    "# =========================\n",
    "\n",
    "from sumolib.xml import parse\n",
    "\n",
    "# Define forbidden (from,to) pairs\n",
    "forbidden_pairs = {\n",
    "    (\"-1088700963\", \"1088700963\"),\n",
    "    (\"-7637536#1\", \"7637536#0\"),\n",
    "    (\"623950256\", \"623950255\"),\n",
    "    (\"624515487\", \"624515488\"),\n",
    "    (\"624523286\", \"-624523286\"),\n",
    "}\n",
    "\n",
    "#Define acceptable edges\n",
    "acceptable_edges = {'-1088700963', '-7637536#1', '623950256', '624515487', '624523286','-624523286', '1088700963', '623950255', '624515488', '7637536#0'}\n",
    "\n",
    "input_file  = outdir / \"trips.rou.xml\"\n",
    "output_file = outdir / \"filtered_trips.rou.xml\"\n",
    "\n",
    "with open(output_file, \"w\") as out:\n",
    "    out.write('<routes xmlns:xsi=\"http://www.w3.org/2001/XMLSchema-instance\" '\n",
    "              'xsi:noNamespaceSchemaLocation=\"http://sumo.dlr.de/xsd/routes_file.xsd\">\\n')\n",
    "\n",
    "    for trip in parse(input_file, \"trip\"):\n",
    "        start = getattr(trip, \"attr_from\")  # 'from' edge\n",
    "        end   = getattr(trip, \"to\")    # 'to' edge\n",
    "        if start in acceptable_edges and end in acceptable_edges:\n",
    "            if (start, end) not in forbidden_pairs:\n",
    "                out.write(trip.toXML(\"\\t\"))\n",
    "                # out.write(\"\\n\")\n",
    "\n",
    "    out.write(\"</routes>\\n\")\n",
    "\n",
    "print(f\"Filtered trips written to {output_file}\")\n"
   ]
  },
  {
   "cell_type": "code",
   "execution_count": null,
   "id": "81c68d62",
   "metadata": {},
   "outputs": [
    {
     "name": "stdout",
     "output_type": "stream",
     "text": [
      "Unique edges: {'624515488', '7637536#0', '624523286', '624515487', '623950255', '-7637536#1', '623950256', '-624523286', '-1088700963', '1088700963'}\n",
      "Number of unique edges: 10\n"
     ]
    }
   ],
   "source": [
    "# =========================\n",
    "# find all edges \n",
    "# =========================\n",
    "\n",
    "from sumolib.xml import parse\n",
    "temp = outdir / \"filtered_trips.rou.xml\"\n",
    "\n",
    "edges = []\n",
    "\n",
    "for trip in parse(temp, \"trip\"):\n",
    "    start = getattr(trip, \"attr_from\")  # 'from' edge\n",
    "    end   = getattr(trip, \"to\")    # 'to' edge\n",
    "    edges.append((start, end))\n",
    "    # print(start, end)\n",
    "\n",
    "# =========================\n",
    "# find unique edges\n",
    "# =========================\n",
    "unique_edges = set()\n",
    "for edge_pair in edges:\n",
    "    unique_edges.update(edge_pair)  \n",
    "print(\"Unique edges:\", unique_edges)\n",
    "print(\"Number of unique edges:\", len(unique_edges))\n"
   ]
  },
  {
   "cell_type": "code",
   "execution_count": 8,
   "id": "a7d21daf",
   "metadata": {},
   "outputs": [],
   "source": [
    "import random\n",
    "\n",
    "def generate_linear_trips(output_file, entries, exits, forbidden_pairs,\n",
    "                          num_trips=50, begin=0, period=2):\n",
    "    \"\"\"\n",
    "    Generate exactly num_trips trips with linear depart times.\n",
    "    Constraints:\n",
    "      - from ∈ entries\n",
    "      - to ∈ exits\n",
    "      - (from,to) not in forbidden_pairs\n",
    "    \"\"\"\n",
    "    entries = list(entries)\n",
    "    exits = list(exits)\n",
    "\n",
    "    with open(output_file, \"w\") as out:\n",
    "        out.write('<routes xmlns:xsi=\"http://www.w3.org/2001/XMLSchema-instance\" '\n",
    "                  'xsi:noNamespaceSchemaLocation=\"http://sumo.dlr.de/xsd/routes_file.xsd\">\\n')\n",
    "\n",
    "        trip_id = 0\n",
    "        i = 0\n",
    "        while trip_id < num_trips:\n",
    "            depart = round(begin + i * period, 2)\n",
    "            start = random.choice(entries)\n",
    "            end_edge = random.choice(exits)\n",
    "\n",
    "            # retry until valid combination\n",
    "            while (start, end_edge) in forbidden_pairs:\n",
    "                start = random.choice(entries)\n",
    "                end_edge = random.choice(exits)\n",
    "\n",
    "            out.write(f'    <trip id=\"{trip_id}\" depart=\"{depart}\" from=\"{start}\" to=\"{end_edge}\"/>\\n')\n",
    "            trip_id += 1\n",
    "            i += 1\n",
    "\n",
    "        out.write(\"</routes>\\n\")\n",
    "\n",
    "    print(f\"✅ Generated {trip_id} trips in {output_file}\")\n"
   ]
  },
  {
   "cell_type": "code",
   "execution_count": 9,
   "id": "376d3a60",
   "metadata": {},
   "outputs": [
    {
     "name": "stdout",
     "output_type": "stream",
     "text": [
      "✅ Generated 2000 trips in c:\\Users\\hanju\\OneDrive - AUT University\\01. Papers\\09. Dissertation\\4.0 Projects\\xai-traffic-prediction\\traffic simulation\\2906\\trips-2000-1.trips.xml\n"
     ]
    }
   ],
   "source": [
    "entry_edges = ['-1088700963', '-7637536#1', '623950256', '624515487', '624523286']\n",
    "exit_edges  = ['-624523286', '1088700963', '623950255', '624515488', '7637536#0']\n",
    "\n",
    "forbidden_pairs = {\n",
    "    (\"-1088700963\", \"1088700963\"),\n",
    "    (\"-7637536#1\", \"7637536#0\"),\n",
    "    (\"623950256\", \"623950255\"),\n",
    "    (\"624515487\", \"624515488\"),\n",
    "    (\"624523286\", \"-624523286\"),\n",
    "}\n",
    "\n",
    "number_of_trips = 2000\n",
    "frequent_trips = 1\n",
    "\n",
    "generate_linear_trips(\n",
    "    output_file= outdir / f\"trips-{number_of_trips}-{frequent_trips}.trips.xml\", ## change name here\n",
    "    entries=entry_edges,\n",
    "    exits=exit_edges,\n",
    "    forbidden_pairs=forbidden_pairs,\n",
    "    num_trips=number_of_trips,\n",
    "    begin=0,\n",
    "    period=frequent_trips # frequent trips \n",
    ")\n"
   ]
  },
  {
   "cell_type": "code",
   "execution_count": null,
   "id": "3d42e0e8",
   "metadata": {},
   "outputs": [
    {
     "name": "stdout",
     "output_type": "stream",
     "text": [
      "✅ Detectors written to detectors.add.xml\n"
     ]
    }
   ],
   "source": [
    "import os, subprocess\n",
    "\n",
    "SUMO_HOME = os.environ[\"SUMO_HOME\"]\n",
    "netfile = outdir / \"osm.net.xml.gz\"\n",
    "outfile = outdir / \"detectors.add.xml\"\n",
    "\n",
    "cmd = [\n",
    "    \"python\",\n",
    "    os.path.join(SUMO_HOME, \"tools\", \"output\", \"generateTLSE1Detectors.py\"),\n",
    "    \"-n\", netfile,\n",
    "    \"-o\", outfile\n",
    "]\n",
    "\n",
    "subprocess.run(cmd, check=True)\n",
    "print(f\"✅ Detectors written to {outfile}\")\n"
   ]
  },
  {
   "cell_type": "code",
   "execution_count": null,
   "id": "21f52f49",
   "metadata": {},
   "outputs": [
    {
     "name": "stdout",
     "output_type": "stream",
     "text": [
      "✅ All-lane detectors written to detectors.add.xml\n"
     ]
    }
   ],
   "source": [
    "import sumolib\n",
    "\n",
    "net = sumolib.net.readNet(\"osm.net.xml.gz\")\n",
    "\n",
    "with open(outdir /\"detectors.add.xml\", \"w\") as f:\n",
    "    f.write(\"<additional>\\n\")\n",
    "    for edge in net.getEdges():\n",
    "        for lane in edge.getLanes():\n",
    "            det_id = f\"loop_{lane.getID()}\"\n",
    "            f.write(f'    <inductionLoop id=\"{det_id}\" lane=\"{lane.getID()}\" pos=\"50\" freq=\"60\" file=\"detector_output.xml\"/>\\n')\n",
    "    f.write(\"</additional>\\n\")\n",
    "\n",
    "print(\"✅ All-lane detectors written to detectors.add.xml\")\n"
   ]
  }
 ],
 "metadata": {
  "kernelspec": {
   "display_name": "Python 3",
   "language": "python",
   "name": "python3"
  },
  "language_info": {
   "codemirror_mode": {
    "name": "ipython",
    "version": 3
   },
   "file_extension": ".py",
   "mimetype": "text/x-python",
   "name": "python",
   "nbconvert_exporter": "python",
   "pygments_lexer": "ipython3",
   "version": "3.12.4"
  }
 },
 "nbformat": 4,
 "nbformat_minor": 5
}
