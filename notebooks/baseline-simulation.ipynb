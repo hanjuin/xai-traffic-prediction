{
 "cells": [
  {
   "cell_type": "code",
   "execution_count": 13,
   "id": "558d9472",
   "metadata": {},
   "outputs": [],
   "source": [
    "import xml.etree.ElementTree as ET\n",
    "import pandas as pd\n",
    "\n",
    "def parse_detector_output(xml_file):\n",
    "    \"\"\"\n",
    "    Parse SUMO induction loop detector output (detector_output.xml)\n",
    "    into a pandas DataFrame.\n",
    "    \"\"\"\n",
    "    rows = []\n",
    "\n",
    "    # Parse line by line (robust against big files)\n",
    "    with open(xml_file, \"r\") as f:\n",
    "        for line in f:\n",
    "            if line.strip().startswith(\"<interval\"):\n",
    "                try:\n",
    "                    element = ET.fromstring(line.strip())\n",
    "                    rows.append(element.attrib)\n",
    "                except ET.ParseError:\n",
    "                    continue\n",
    "\n",
    "    # Convert to DataFrame\n",
    "    df = pd.DataFrame(rows)\n",
    "\n",
    "    # Convert numeric columns to floats where possible\n",
    "    for col in df.columns:\n",
    "        try:\n",
    "            df[col] = df[col].astype(float)\n",
    "        except ValueError:\n",
    "            pass  # leave non-numeric (like \"id\") as string\n",
    "\n",
    "    return df"
   ]
  },
  {
   "cell_type": "code",
   "execution_count": 18,
   "id": "c669c616",
   "metadata": {},
   "outputs": [
    {
     "name": "stdout",
     "output_type": "stream",
     "text": [
      "<class 'pandas.core.frame.DataFrame'>\n",
      "RangeIndex: 684 entries, 0 to 683\n",
      "Data columns (total 10 columns):\n",
      " #   Column             Non-Null Count  Dtype  \n",
      "---  ------             --------------  -----  \n",
      " 0   begin              684 non-null    float64\n",
      " 1   end                684 non-null    float64\n",
      " 2   id                 684 non-null    object \n",
      " 3   nVehContrib        684 non-null    float64\n",
      " 4   flow               684 non-null    float64\n",
      " 5   occupancy          684 non-null    float64\n",
      " 6   speed              684 non-null    float64\n",
      " 7   harmonicMeanSpeed  684 non-null    float64\n",
      " 8   length             684 non-null    float64\n",
      " 9   nVehEntered        684 non-null    float64\n",
      "dtypes: float64(9), object(1)\n",
      "memory usage: 53.6+ KB\n"
     ]
    }
   ],
   "source": [
    "xml_file = \"../traffic simulation/2906/detector_output.xml\"\n",
    "df = pd.DataFrame(parse_detector_output(xml_file))\n",
    "df.info()"
   ]
  }
 ],
 "metadata": {
  "kernelspec": {
   "display_name": "Python 3",
   "language": "python",
   "name": "python3"
  },
  "language_info": {
   "codemirror_mode": {
    "name": "ipython",
    "version": 3
   },
   "file_extension": ".py",
   "mimetype": "text/x-python",
   "name": "python",
   "nbconvert_exporter": "python",
   "pygments_lexer": "ipython3",
   "version": "3.12.4"
  }
 },
 "nbformat": 4,
 "nbformat_minor": 5
}
